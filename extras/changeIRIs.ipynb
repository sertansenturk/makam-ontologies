{
 "cells": [
  {
   "cell_type": "code",
   "execution_count": 1,
   "metadata": {
    "collapsed": false
   },
   "outputs": [],
   "source": [
    "import xml.etree.ElementTree\n",
    "from fileoperations.fileoperations import get_filenames_in_dir"
   ]
  },
  {
   "cell_type": "code",
   "execution_count": 2,
   "metadata": {
    "collapsed": true
   },
   "outputs": [],
   "source": [
    "owl_files = get_filenames_in_dir('../owl/', keyword='*.owl')[0]"
   ]
  },
  {
   "cell_type": "code",
   "execution_count": 3,
   "metadata": {
    "collapsed": false
   },
   "outputs": [],
   "source": [
    "e = xml.etree.ElementTree.parse(owl_files[0]).getroot()"
   ]
  },
  {
   "cell_type": "code",
   "execution_count": null,
   "metadata": {
    "collapsed": false
   },
   "outputs": [
    {
     "name": "stdout",
     "output_type": "stream",
     "text": [
      "OWLDataProperty_72118e85_746e_4b89_be38_19fc8f489891\n",
      "performance date\n",
      "\n",
      "OWLNamedIndividual_f24a11a7_c0d6_485d_b83c_ccac1d2e8141\n",
      "tanbur\n",
      "\n",
      "OWLObjectProperty_33e3bdc1_8d81_414b_a1df_65ba59d532b9\n",
      "playsInstrument\n",
      "\n",
      "OWLObjectProperty_38ee55cf_5901_4fc9_b870_de6f01258f45\n",
      "transposition\n",
      "\n",
      "OWLObjectProperty_3f1ff151_c0e4_4bd0_891c_103d941d2237\n",
      "hasPerformance\n",
      "\n",
      "OWLObjectProperty_63abfab8_5572_4154_a212_9df4edbd4a3d\n",
      "performedAccordingToScore\n",
      "\n",
      "OWLObjectProperty_7195d4fa_d737_4f7b_8563_aeb0baeaa38b\n",
      "isPlayedBy\n",
      "\n",
      "OWLObjectProperty_84436b82_48f3_4c6d_a1ac_72f393b5d643\n",
      "hasRecording\n",
      "\n",
      "OWLObjectProperty_844f4c86_338b_4073_9c9c_a8b02c598148\n",
      "isPerformanceOf\n",
      "\n",
      "OWLObjectProperty_89f2fd64_47ec_4719_801b_4d61a649484d\n",
      "audio time\n",
      "\n",
      "OWLObjectProperty_96bddf20_46f8_492e_ad7f_4ff2abaa5c0c\n",
      "isRecordingOf\n",
      "\n",
      "OWLObjectProperty_cf1787e9_5c5f_40b1_940c_2121b418c61d\n",
      "playsInstrumentIn\n",
      "\n",
      "OWLObjectProperty_e7997e47_0707_4cf7_8c35_0853b589d729\n",
      "singsIn\n",
      "\n",
      "http://purl.org/ontology/symbolic-music/OWLClass_1ca1f427_257f_476e_ae47_51c1a12040c0\n",
      "> <ipython-input-62-054eef71b77c>(16)<module>()\n",
      "-> print iri\n"
     ]
    }
   ],
   "source": [
    "change_dict = {}\n",
    "for of in owl_files:\n",
    "    e = xml.etree.ElementTree.parse(of).getroot()\n",
    "    for anno in e.findall('{http://www.w3.org/2002/07/owl#}AnnotationAssertion'):\n",
    "        try:\n",
    "            iri = anno.find('{http://www.w3.org/2002/07/owl#}IRI').text\n",
    "            if 'OWL' in iri:\n",
    "                try:\n",
    "                    iri = iri.split('#')[1]\n",
    "                    \n",
    "                except IndexError:\n",
    "                    print iri\n",
    "                    import pdb\n",
    "                    pdb.set_trace()\n",
    "                    \n",
    "                print iri\n",
    "                \n",
    "                print anno.find('{http://www.w3.org/2002/07/owl#}Literal').text\n",
    "                print ''\n",
    "                \n",
    "        except AttributeError:\n",
    "            pass"
   ]
  },
  {
   "cell_type": "code",
   "execution_count": 60,
   "metadata": {
    "collapsed": false
   },
   "outputs": [
    {
     "name": "stdout",
     "output_type": "stream",
     "text": [
      "http://purl.org/ontology/symbolic-music/OWLClass_1ca1f427_257f_476e_ae47_51c1a12040c0\n"
     ]
    }
   ],
   "source": [
    "print iri"
   ]
  },
  {
   "cell_type": "code",
   "execution_count": 43,
   "metadata": {
    "collapsed": false
   },
   "outputs": [
    {
     "name": "stdout",
     "output_type": "stream",
     "text": [
      "http://purl.org/NET/c4dm/timeline.owl#ContinuousTimeLine\n",
      "A continuous timeline, like the universal one, or the one backing an analog signal\n"
     ]
    }
   ],
   "source": []
  },
  {
   "cell_type": "code",
   "execution_count": 58,
   "metadata": {
    "collapsed": false
   },
   "outputs": [
    {
     "data": {
      "text/plain": [
       "'http://xmlns.com/foaf/0.1/gender'"
      ]
     },
     "execution_count": 58,
     "metadata": {},
     "output_type": "execute_result"
    }
   ],
   "source": [
    "iri"
   ]
  }
 ],
 "metadata": {
  "kernelspec": {
   "display_name": "Python 2",
   "language": "python",
   "name": "python2"
  },
  "language_info": {
   "codemirror_mode": {
    "name": "ipython",
    "version": 2
   },
   "file_extension": ".py",
   "mimetype": "text/x-python",
   "name": "python",
   "nbconvert_exporter": "python",
   "pygments_lexer": "ipython2",
   "version": "2.7.12"
  }
 },
 "nbformat": 4,
 "nbformat_minor": 1
}
