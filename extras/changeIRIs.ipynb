{
 "cells": [
  {
   "cell_type": "code",
   "execution_count": 1,
   "metadata": {
    "collapsed": false
   },
   "outputs": [],
   "source": [
    "import xml.etree.ElementTree\n",
    "from fileoperations.fileoperations import get_filenames_in_dir\n",
    "from fileoperations.slugify_tr import slugify_tr"
   ]
  },
  {
   "cell_type": "code",
   "execution_count": 2,
   "metadata": {
    "collapsed": false
   },
   "outputs": [],
   "source": [
    "owl_files = get_filenames_in_dir('../owl/', keyword='*.owl')[0]"
   ]
  },
  {
   "cell_type": "code",
   "execution_count": 3,
   "metadata": {
    "collapsed": false,
    "scrolled": false
   },
   "outputs": [
    {
     "ename": "ParseError",
     "evalue": "no element found: line 1, column 0",
     "output_type": "error",
     "traceback": [
      "\u001b[0;36m  File \u001b[0;32m\"<string>\"\u001b[0;36m, line \u001b[0;32munknown\u001b[0m\n\u001b[0;31mParseError\u001b[0m\u001b[0;31m:\u001b[0m no element found: line 1, column 0\n"
     ]
    }
   ],
   "source": [
    "change_dict = {}\n",
    "for of in owl_files:\n",
    "    e = xml.etree.ElementTree.parse(of).getroot()\n",
    "    for anno in e.findall('{http://www.w3.org/2002/07/owl#}AnnotationAssertion'):\n",
    "        try:\n",
    "            iri = anno.find('{http://www.w3.org/2002/07/owl#}IRI').text\n",
    "            if 'OWL' in iri:\n",
    "                iri = iri.split('#')[1]\n",
    "                prop_attr = anno.find('{http://www.w3.org/2002/07/owl#}AnnotationProperty').attrib\n",
    "                literal = anno.find('{http://www.w3.org/2002/07/owl#}Literal')\n",
    "                literal_str = literal.text\n",
    "\n",
    "                try:\n",
    "                    if 'abbreviatedIRI' in prop_attr.keys():\n",
    "                        if prop_attr['abbreviatedIRI'] == 'rdfs:label':\n",
    "                            lang = literal.attrib['{http://www.w3.org/XML/1998/namespace}lang']\n",
    "                            if lang == 'en':\n",
    "                                if iri in change_dict.keys():\n",
    "                                    assert change_dict[iri] == literal_str\n",
    "                                else:\n",
    "                                    change_dict[iri] = slugify_tr(literal_str)\n",
    "                except AssertionError:  # iri has multiple mappings\n",
    "                    if change_dict[iri] is not None:\n",
    "                        print iri\n",
    "                        print literal_str\n",
    "                        print change_dict[iri]\n",
    "                        print ''\n",
    "                        import pdb\n",
    "                        pdb.set_trace()\n",
    "                \n",
    "                    #if 'OWL' in prop_attr['IRI']:\n",
    "                    #    try:\n",
    "                    #        if iri in change_dict.keys():\n",
    "                    #            assert change_dict[iri] == literal_str\n",
    "                    #    except AssertionError:  # iri has multiple mappings\n",
    "                    #        if change_dict[iri] is not None:\n",
    "                    #            print iri\n",
    "                    #            print literal_str\n",
    "                    #            print change_dict[iri]\n",
    "                    #            print ''\n",
    "                    #            import pdb\n",
    "                    #            pdb.set_trace()\n",
    "                \n",
    "        except AttributeError:\n",
    "            pass"
   ]
  },
  {
   "cell_type": "code",
   "execution_count": null,
   "metadata": {
    "collapsed": false
   },
   "outputs": [],
   "source": [
    "import io\n",
    "for of in owl_files:\n",
    "    # Read in the file\n",
    "    with open(of, 'r') as file :\n",
    "        filedata = unicode(file.read(), 'utf8')\n",
    "        \n",
    "    # Replace the target string\n",
    "    for key, val in change_dict.items():\n",
    "        filedata = filedata.replace(key, val)\n",
    "\n",
    "    filedata.encode('utf8', 'replace')\n",
    "    \n",
    "    # Write the file out again\n",
    "    with io.open(of, 'w', encoding='utf8') as file:\n",
    "        file.write(filedata)"
   ]
  }
 ],
 "metadata": {
  "kernelspec": {
   "display_name": "Python 2",
   "language": "python",
   "name": "python2"
  },
  "language_info": {
   "codemirror_mode": {
    "name": "ipython",
    "version": 2
   },
   "file_extension": ".py",
   "mimetype": "text/x-python",
   "name": "python",
   "nbconvert_exporter": "python",
   "pygments_lexer": "ipython2",
   "version": "2.7.10"
  }
 },
 "nbformat": 4,
 "nbformat_minor": 1
}
